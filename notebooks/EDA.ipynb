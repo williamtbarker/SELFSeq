{
 "cells": [
  {
   "cell_type": "code",
   "execution_count": 1,
   "id": "523245b2",
   "metadata": {},
   "outputs": [],
   "source": [
    "import sys\n",
    "sys.path.append(\"../src/\")"
   ]
  },
  {
   "cell_type": "code",
   "execution_count": 4,
   "id": "a9d494ae",
   "metadata": {},
   "outputs": [
    {
     "data": {
      "text/html": [
       "<div>\n",
       "<style scoped>\n",
       "    .dataframe tbody tr th:only-of-type {\n",
       "        vertical-align: middle;\n",
       "    }\n",
       "\n",
       "    .dataframe tbody tr th {\n",
       "        vertical-align: top;\n",
       "    }\n",
       "\n",
       "    .dataframe thead th {\n",
       "        text-align: right;\n",
       "    }\n",
       "</style>\n",
       "<table border=\"1\" class=\"dataframe\">\n",
       "  <thead>\n",
       "    <tr style=\"text-align: right;\">\n",
       "      <th></th>\n",
       "      <th>SMILES</th>\n",
       "      <th>Target</th>\n",
       "      <th>isActive</th>\n",
       "      <th>SELFIES</th>\n",
       "      <th>Seq</th>\n",
       "    </tr>\n",
       "  </thead>\n",
       "  <tbody>\n",
       "    <tr>\n",
       "      <th>0</th>\n",
       "      <td>Cn1c(=O)c2[nH]cnc2n(C)c1=O</td>\n",
       "      <td>aldh1a1</td>\n",
       "      <td>1</td>\n",
       "      <td>[C][N][C][=Branch1][C][=O][C][NH1][C][=N][C][=...</td>\n",
       "      <td>MSSSGTPDLPVLLTDLKIQYTKIFINNEWHDSVSGKKFPVFNPATE...</td>\n",
       "    </tr>\n",
       "    <tr>\n",
       "      <th>1</th>\n",
       "      <td>Oc1cc(Sc2nc[nH]n2)c(O)n1-c1ccccc1</td>\n",
       "      <td>aldh1a1</td>\n",
       "      <td>1</td>\n",
       "      <td>[O][C][=C][C][Branch1][=Branch2][S][C][N][=C][...</td>\n",
       "      <td>MSSSGTPDLPVLLTDLKIQYTKIFINNEWHDSVSGKKFPVFNPATE...</td>\n",
       "    </tr>\n",
       "    <tr>\n",
       "      <th>2</th>\n",
       "      <td>O=C(c1ccccc1)c1c(-c2ccccc2)oc(O)c1O</td>\n",
       "      <td>aldh1a1</td>\n",
       "      <td>1</td>\n",
       "      <td>[O][=C][Branch1][=Branch2][C][=C][C][=C][C][=C...</td>\n",
       "      <td>MSSSGTPDLPVLLTDLKIQYTKIFINNEWHDSVSGKKFPVFNPATE...</td>\n",
       "    </tr>\n",
       "    <tr>\n",
       "      <th>3</th>\n",
       "      <td>COc1ccc(-n2c(O)cc(Sc3n[nH]c(-c4ccc(C)cc4)n3)c2...</td>\n",
       "      <td>aldh1a1</td>\n",
       "      <td>1</td>\n",
       "      <td>[C][O][C][=C][C][=C][Branch2][Ring2][Branch1][...</td>\n",
       "      <td>MSSSGTPDLPVLLTDLKIQYTKIFINNEWHDSVSGKKFPVFNPATE...</td>\n",
       "    </tr>\n",
       "    <tr>\n",
       "      <th>4</th>\n",
       "      <td>CCc1ccc(C2NC(=S)N=C3CCCC(=O)C32)cc1</td>\n",
       "      <td>aldh1a1</td>\n",
       "      <td>1</td>\n",
       "      <td>[C][C][C][=C][C][=C][Branch2][Ring1][Branch1][...</td>\n",
       "      <td>MSSSGTPDLPVLLTDLKIQYTKIFINNEWHDSVSGKKFPVFNPATE...</td>\n",
       "    </tr>\n",
       "  </tbody>\n",
       "</table>\n",
       "</div>"
      ],
      "text/plain": [
       "                                              SMILES   Target  isActive  \\\n",
       "0                         Cn1c(=O)c2[nH]cnc2n(C)c1=O  aldh1a1         1   \n",
       "1                  Oc1cc(Sc2nc[nH]n2)c(O)n1-c1ccccc1  aldh1a1         1   \n",
       "2                O=C(c1ccccc1)c1c(-c2ccccc2)oc(O)c1O  aldh1a1         1   \n",
       "3  COc1ccc(-n2c(O)cc(Sc3n[nH]c(-c4ccc(C)cc4)n3)c2...  aldh1a1         1   \n",
       "4                CCc1ccc(C2NC(=S)N=C3CCCC(=O)C32)cc1  aldh1a1         1   \n",
       "\n",
       "                                             SELFIES  \\\n",
       "0  [C][N][C][=Branch1][C][=O][C][NH1][C][=N][C][=...   \n",
       "1  [O][C][=C][C][Branch1][=Branch2][S][C][N][=C][...   \n",
       "2  [O][=C][Branch1][=Branch2][C][=C][C][=C][C][=C...   \n",
       "3  [C][O][C][=C][C][=C][Branch2][Ring2][Branch1][...   \n",
       "4  [C][C][C][=C][C][=C][Branch2][Ring1][Branch1][...   \n",
       "\n",
       "                                                 Seq  \n",
       "0  MSSSGTPDLPVLLTDLKIQYTKIFINNEWHDSVSGKKFPVFNPATE...  \n",
       "1  MSSSGTPDLPVLLTDLKIQYTKIFINNEWHDSVSGKKFPVFNPATE...  \n",
       "2  MSSSGTPDLPVLLTDLKIQYTKIFINNEWHDSVSGKKFPVFNPATE...  \n",
       "3  MSSSGTPDLPVLLTDLKIQYTKIFINNEWHDSVSGKKFPVFNPATE...  \n",
       "4  MSSSGTPDLPVLLTDLKIQYTKIFINNEWHDSVSGKKFPVFNPATE...  "
      ]
     },
     "execution_count": 4,
     "metadata": {},
     "output_type": "execute_result"
    }
   ],
   "source": [
    "import pandas as pd\n",
    "df = pd.read_csv(\"../data/raw/Enriched_Set_60percent_similarity.csv\")\n",
    "df.head()"
   ]
  },
  {
   "cell_type": "code",
   "execution_count": 5,
   "id": "5ec732bb",
   "metadata": {},
   "outputs": [
    {
     "name": "stdout",
     "output_type": "stream",
     "text": [
      "SELFIES Stats: {'max_length': 347, 'min_length': 2, 'avg_length': 55.93296800667567}\n",
      "Protein Sequence Stats: {'max_length': 776, 'min_length': 209, 'avg_length': 456.56274356305323}\n"
     ]
    }
   ],
   "source": [
    "import selfies as sf\n",
    "\n",
    "# Decode SELFIES to get the actual structure and calculate length\n",
    "df['decoded_SELFIES'] = df['SELFIES'].apply(lambda x: sf.decoder(x))\n",
    "df['SELFIES_length'] = df['decoded_SELFIES'].apply(len)\n",
    "\n",
    "# Calculate length of protein sequences directly\n",
    "df['Seq_length'] = df['Seq'].apply(len)\n",
    "\n",
    "# Compute statistics\n",
    "selfies_stats = {\n",
    "    'max_length': df['SELFIES_length'].max(),\n",
    "    'min_length': df['SELFIES_length'].min(),\n",
    "    'avg_length': df['SELFIES_length'].mean()\n",
    "}\n",
    "\n",
    "seq_stats = {\n",
    "    'max_length': df['Seq_length'].max(),\n",
    "    'min_length': df['Seq_length'].min(),\n",
    "    'avg_length': df['Seq_length'].mean()\n",
    "}\n",
    "\n",
    "print(\"SELFIES Stats:\", selfies_stats)\n",
    "print(\"Protein Sequence Stats:\", seq_stats)"
   ]
  },
  {
   "cell_type": "code",
   "execution_count": 6,
   "id": "5e058b1e",
   "metadata": {},
   "outputs": [
    {
     "name": "stdout",
     "output_type": "stream",
     "text": [
      "SELFIES Vocabulary Size: 109\n"
     ]
    }
   ],
   "source": [
    "# Extract unique symbols from SELFIES\n",
    "def extract_unique_selfies_symbols(selfies_string):\n",
    "    return sf.split_selfies(selfies_string)\n",
    "\n",
    "# Apply the function to each SELFIES string and accumulate the unique symbols in a set\n",
    "unique_symbols = set()\n",
    "for _, row in df.iterrows():\n",
    "    symbols = extract_unique_selfies_symbols(row['SELFIES'])\n",
    "    unique_symbols.update(symbols)\n",
    "\n",
    "# Count the unique symbols. Add 3 for <SOS>, <EOS>, and <PAD> special tokens.\n",
    "vocab_size = len(unique_symbols) + 3\n",
    "\n",
    "print(f\"SELFIES Vocabulary Size: {vocab_size}\")"
   ]
  },
  {
   "cell_type": "code",
   "execution_count": null,
   "id": "ed747d3b",
   "metadata": {},
   "outputs": [],
   "source": [
    "#So our SELFIES final Vocab size is 112 with PAD, EOS and SOS.\n",
    "# Protein final vocab = 20 AA's plus PAD, EOS, SOS = 23."
   ]
  }
 ],
 "metadata": {
  "kernelspec": {
   "display_name": "Python 3 (ipykernel)",
   "language": "python",
   "name": "python3"
  },
  "language_info": {
   "codemirror_mode": {
    "name": "ipython",
    "version": 3
   },
   "file_extension": ".py",
   "mimetype": "text/x-python",
   "name": "python",
   "nbconvert_exporter": "python",
   "pygments_lexer": "ipython3",
   "version": "3.11.4"
  }
 },
 "nbformat": 4,
 "nbformat_minor": 5
}
